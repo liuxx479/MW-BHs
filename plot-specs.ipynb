{
 "cells": [
  {
   "cell_type": "code",
   "execution_count": 1,
   "metadata": {
    "collapsed": false
   },
   "outputs": [
    {
     "name": "stderr",
     "output_type": "stream",
     "text": [
      "WARNING: AstropyDeprecationWarning: Config parameter 'name_resolve_timeout' in section [coordinates.name_resolve] of the file '/Users/jia/.astropy/config/astropy.cfg' is deprecated. Use 'remote_timeout' in section [utils.data] instead. [astropy.config.configuration]\n",
      "WARNING: AstropyDeprecationWarning: Config parameter 'remote_timeout' in section [utils.data] of the file '/Users/jia/.astropy/config/astropy.cfg' is given by more than one alias (astropy.utils.data.remote_timeout, coordinates.name_resolve.name_resolve_timeout). Using the first. [astropy.config.configuration]\n"
     ]
    }
   ],
   "source": [
    "from astropy.io import fits\n",
    "from scipy import *\n",
    "import numpy as np\n",
    "from pylab import *\n",
    "from astropy.coordinates import SkyCoord\n",
    "import astropy.units as units\n",
    "from IPython.display import Image\n",
    "from astropy.coordinates import FK5, ICRS\n",
    "from astropy.coordinates import SkyCoord\n",
    "from astropy import units as u\n",
    "from astropy.coordinates import match_coordinates_sky\n",
    "import WLanalysis\n",
    "from scipy.interpolate import interp2d,NearestNDInterpolator\n",
    "import os"
   ]
  },
  {
   "cell_type": "code",
   "execution_count": 2,
   "metadata": {
    "collapsed": true
   },
   "outputs": [],
   "source": [
    "def read_spec(fitsfile):    \n",
    "    ihdulist = fits.open(fitsfile)\n",
    "    idate = ihdulist[0].header['DATE-OBS'][:10]\n",
    "    ispec = ihdulist[1].data\n",
    "    ilambda = ihdulist[4].data\n",
    "    return ilambda, ispec, idate"
   ]
  },
  {
   "cell_type": "code",
   "execution_count": 6,
   "metadata": {
    "collapsed": false
   },
   "outputs": [
    {
     "name": "stdout",
     "output_type": "stream",
     "text": [
      "specs_visit/apVisit-r8-6224-56561-237.fits\n"
     ]
    }
   ],
   "source": [
    "apoid_candidates = os.listdir('specs_visit')\n",
    "ifitsfn = 'specs_visit/%s'%(os.listdir('specs_visit/%s'%(apoid_candidates[5]))[0])\n",
    "print ifitsfn"
   ]
  },
  {
   "cell_type": "code",
   "execution_count": null,
   "metadata": {
    "collapsed": true
   },
   "outputs": [],
   "source": []
  }
 ],
 "metadata": {
  "kernelspec": {
   "display_name": "Python [default]",
   "language": "python",
   "name": "python2"
  },
  "language_info": {
   "codemirror_mode": {
    "name": "ipython",
    "version": 2
   },
   "file_extension": ".py",
   "mimetype": "text/x-python",
   "name": "python",
   "nbconvert_exporter": "python",
   "pygments_lexer": "ipython2",
   "version": "2.7.12"
  }
 },
 "nbformat": 4,
 "nbformat_minor": 1
}
